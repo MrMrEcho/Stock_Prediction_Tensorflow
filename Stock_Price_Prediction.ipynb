{
 "cells": [
  {
   "cell_type": "code",
   "execution_count": 1,
   "metadata": {},
   "outputs": [],
   "source": [
    "import pandas as pd\n",
    "import tensorflow as tf\n",
    "import matplotlib.pyplot as plt\n",
    "import numpy as np\n",
    "from tensorflow.contrib import rnn\n",
    "from sklearn.preprocessing import MinMaxScaler\n",
    "import time\n",
    "\n",
    "\n",
    "#Preprocessing training data\n",
    "data = pd.read_csv('/Users/til018/Desktop/stock_price_prediction/Google_Stock_Price_Train.csv')\n",
    "#Read 'open' only\n",
    "data = data.iloc[:, 1:2]\n",
    "#Convert string into array\n",
    "data = data.values\n",
    "\n",
    "#Data normalization\n",
    "scaler = MinMaxScaler()\n",
    "data = scaler.fit_transform(data)\n",
    "\n",
    "#Split data\n",
    "X_train = data[:-1]\n",
    "y_train = data[1:]\n",
    "X_train = np.reshape(X_train, (1257, 1, 1))\n",
    "X = tf.placeholder(tf.float32, [None, 1, 1])\n",
    "Y = tf.placeholder(tf.float32, [None, 1])\n",
    "\n",
    "#LSTM cell\n",
    "cell = tf.contrib.rnn.BasicLSTMCell(num_units=128, state_is_tuple=True, activation=tf.tanh)\n",
    "\n",
    "outputs, _states = tf.nn.dynamic_rnn(cell, X, dtype=tf.float32)\n",
    "\n",
    "#Fully connected layer\n",
    "y_pred = tf.contrib.layers.fully_connected(outputs[:, -1], 1, activation_fn=None)\n",
    "learning_rate=0.01\n",
    "loss = tf.reduce_sum(tf.square(y_pred - Y))\n",
    "train = tf.train.AdamOptimizer(learning_rate=learning_rate).minimize(loss)"
   ]
  },
  {
   "cell_type": "code",
   "execution_count": 2,
   "metadata": {
    "collapsed": true
   },
   "outputs": [],
   "source": [
    "prediction = tf.argmax(outputs, axis=2)\n",
    "\n",
    "targets = tf.placeholder(tf.float32, [None, 1,1])\n",
    "predictions = tf.placeholder(tf.float32, [None, 1])\n",
    "\n",
    "#Compute rmse\n",
    "rmse = tf.sqrt(tf.reduce_mean(tf.square(targets - predictions)))"
   ]
  },
  {
   "cell_type": "code",
   "execution_count": 3,
   "metadata": {
    "collapsed": true
   },
   "outputs": [],
   "source": [
    "#Preprocessing test data\n",
    "test_csv = pd.read_csv('/Users/til018/Desktop/stock_price_prediction/Google_Stock_Price_Test.csv')\n",
    "test = test_csv.iloc[:, 1:2].values\n",
    "\n",
    "X_test = test\n",
    "X_test = scaler.transform(X_test)\n",
    "X_test.shape\n",
    "X_test = np.reshape(X_test, (20, 1, 1))"
   ]
  },
  {
   "cell_type": "code",
   "execution_count": 4,
   "metadata": {},
   "outputs": [
    {
     "name": "stdout",
     "output_type": "stream",
     "text": [
      "[step: 0] loss: 396.0735168457031\n",
      "[step: 100] loss: 0.4373546540737152\n",
      "[step: 200] loss: 0.3627339005470276\n",
      "[step: 300] loss: 0.31760576367378235\n",
      "[step: 400] loss: 0.3073606789112091\n",
      "[step: 500] loss: 0.3068094551563263\n",
      "[step: 600] loss: 0.3067956566810608\n",
      "[step: 700] loss: 0.3067888915538788\n",
      "[step: 800] loss: 0.3067817986011505\n",
      "[step: 900] loss: 0.3067745864391327\n",
      "RMSE: 805.9627685546875\n",
      "--- 46.75025796890259 seconds ---\n"
     ]
    },
    {
     "data": {
      "image/png": "[encoded data removed]",
      "text/plain": [
       "<matplotlib.figure.Figure at 0x11cf22780>"
      ]
     },
     "metadata": {},
     "output_type": "display_data"
    }
   ],
   "source": [
    "start_time = time.time()\n",
    "with tf.Session() as sess:\n",
    "    sess.run(tf.global_variables_initializer())\n",
    "    for i in range(1000):\n",
    "        _,l = sess.run([train, loss], feed_dict={X: X_train, Y: y_train})\n",
    "        if i % 100 == 0:\n",
    "            print (\"[step: {}] loss: {}\".format(i, l))\n",
    "        \n",
    "    test_predict = sess.run(y_pred, feed_dict={X: X_test})\n",
    "\n",
    "    #Inverse data back to real number for better plot result\n",
    "    test_predict = scaler.inverse_transform(test_predict)\n",
    "\n",
    "    rmse_val = sess.run(rmse, feed_dict={\n",
    "                    targets: X_test, predictions: test_predict})\n",
    "\n",
    "    print(\"RMSE: {}\".format(rmse_val))\n",
    "    print(\"--- %s seconds ---\" % (time.time() - start_time))\n",
    "    plt.plot(test, label='True value')\n",
    "    plt.plot(test_predict, label='Predicted Value')\n",
    "    plt.xlabel(\"Time\")\n",
    "    plt.ylabel(\"Stock Price\")\n",
    "\n",
    "    #Plot the graph\n",
    "    legend = plt.legend(loc='upper left', shadow=True)\n",
    "\n",
    "\n",
    "    plt.show()\n",
    "    "
   ]
  },
  {
   "cell_type": "code",
   "execution_count": null,
   "metadata": {
    "collapsed": true
   },
   "outputs": [],
   "source": []
  },
  {
   "cell_type": "code",
   "execution_count": null,
   "metadata": {
    "collapsed": true
   },
   "outputs": [],
   "source": []
  },
  {
   "cell_type": "code",
   "execution_count": null,
   "metadata": {
    "collapsed": true
   },
   "outputs": [],
   "source": []
  }
 ],
 "metadata": {
  "kernelspec": {
   "display_name": "Python 3",
   "language": "python",
   "name": "python3"
  },
  "language_info": {
   "codemirror_mode": {
    "name": "ipython",
    "version": 3
   },
   "file_extension": ".py",
   "mimetype": "text/x-python",
   "name": "python",
   "nbconvert_exporter": "python",
   "pygments_lexer": "ipython3",
   "version": "3.5.4"
  }
 },
 "nbformat": 4,
 "nbformat_minor": 2
}
